{
  "nbformat": 4,
  "nbformat_minor": 0,
  "metadata": {
    "colab": {
      "provenance": [],
      "authorship_tag": "ABX9TyMsS9qKeLy6rJSpQEt+uVzS",
      "include_colab_link": true
    },
    "kernelspec": {
      "name": "python3",
      "display_name": "Python 3"
    },
    "language_info": {
      "name": "python"
    }
  },
  "cells": [
    {
      "cell_type": "markdown",
      "metadata": {
        "id": "view-in-github",
        "colab_type": "text"
      },
      "source": [
        "<a href=\"https://colab.research.google.com/github/Nandini2525/leetcode-pblms/blob/main/long%20non%20rep%20char.ipynb\" target=\"_parent\"><img src=\"https://colab.research.google.com/assets/colab-badge.svg\" alt=\"Open In Colab\"/></a>"
      ]
    },
    {
      "cell_type": "code",
      "execution_count": null,
      "metadata": {
        "id": "Ze8s-T_63d3n"
      },
      "outputs": [],
      "source": [
        "class Solution:\n",
        "    def lengthOfLongestSubstring(self, s: str) -> int:\n",
        "        l=[]\n",
        "        c=k=0\n",
        "        for i in s:\n",
        "            if i not in l:\n",
        "                l.append(i)\n",
        "                c=c+1\n",
        "                k=max(k,len(l))\n",
        "        else:\n",
        "            c=0\n",
        "            l=[]\n",
        "        return k\n"
      ]
    }
  ]
}