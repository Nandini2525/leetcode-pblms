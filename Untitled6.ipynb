{
  "nbformat": 4,
  "nbformat_minor": 0,
  "metadata": {
    "colab": {
      "provenance": [],
      "toc_visible": true,
      "authorship_tag": "ABX9TyOkREt8eNI7nA80oqoh0jsT",
      "include_colab_link": true
    },
    "kernelspec": {
      "name": "python3",
      "display_name": "Python 3"
    },
    "language_info": {
      "name": "python"
    }
  },
  "cells": [
    {
      "cell_type": "markdown",
      "metadata": {
        "id": "view-in-github",
        "colab_type": "text"
      },
      "source": [
        "<a href=\"https://colab.research.google.com/github/Nandini2525/leetcode-pblms/blob/main/Untitled6.ipynb\" target=\"_parent\"><img src=\"https://colab.research.google.com/assets/colab-badge.svg\" alt=\"Open In Colab\"/></a>"
      ]
    },
    {
      "cell_type": "code",
      "execution_count": null,
      "metadata": {
        "id": "PF38lp921NnV"
      },
      "outputs": [],
      "source": [
        "class Solution:\n",
        "    def firstUniqChar(self, s: str) -> int:\n",
        "        for i in range(0,len(s)):\n",
        "            if(s.count(s[i])==1):\n",
        "                return i\n",
        "        else:\n",
        "            return -1\n",
        "        \n"
      ]
    },
    {
      "cell_type": "code",
      "source": [
        "class Solution {\n",
        "    public int firstUniqChar(String s) {\n",
        "        String[] St = s.split(\"\");\n",
        "        ArrayList<String> a=new ArrayList<>(Arrays.asList(St));\n",
        "        for(int i=0;i<a.size();i++){\n",
        "            if((Collections.frequency(a,a.get(i)))==1){\n",
        "                return(i);\n",
        "            }\n",
        "        }\n",
        "       return -1; \n",
        "    }\n",
        "}\n"
      ],
      "metadata": {
        "id": "tJnGF85I2cT5"
      },
      "execution_count": null,
      "outputs": []
    },
    {
      "cell_type": "markdown",
      "source": [
        "it was time limitexceeded "
      ],
      "metadata": {
        "id": "n97z2vXZ21kX"
      }
    }
  ]
}