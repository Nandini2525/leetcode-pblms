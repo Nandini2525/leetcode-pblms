{
  "nbformat": 4,
  "nbformat_minor": 0,
  "metadata": {
    "colab": {
      "provenance": [],
      "authorship_tag": "ABX9TyMCzFTX0buYwtwUEfvCD3wS",
      "include_colab_link": true
    },
    "kernelspec": {
      "name": "python3",
      "display_name": "Python 3"
    },
    "language_info": {
      "name": "python"
    }
  },
  "cells": [
    {
      "cell_type": "markdown",
      "metadata": {
        "id": "view-in-github",
        "colab_type": "text"
      },
      "source": [
        "<a href=\"https://colab.research.google.com/github/Nandini2525/leetcode-pblms/blob/main/str%20to%20int.ipynb\" target=\"_parent\"><img src=\"https://colab.research.google.com/assets/colab-badge.svg\" alt=\"Open In Colab\"/></a>"
      ]
    },
    {
      "cell_type": "code",
      "execution_count": null,
      "metadata": {
        "id": "Ze8s-T_63d3n"
      },
      "outputs": [],
      "source": [
        "class Solution:\n",
        "    def myAtoi(self, s: str) -> int:\n",
        "        k=\"\"\n",
        "        if(s[0].isalpha()):\n",
        "            return 0\n",
        "        else:\n",
        "            for i in s:\n",
        "                if(i.isdigit()):\n",
        "                    k=k+str(int(i))\n",
        "                elif(i==\"-\" or i==\"+\"):\n",
        "                    k=k+i\n",
        "            p=int(k)\n",
        "            if(-2*31<p<2*31-1):\n",
        "                return p"
      ]
    }
  ]
}